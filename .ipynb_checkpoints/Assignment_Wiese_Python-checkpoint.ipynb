{
 "cells": [
  {
   "cell_type": "code",
   "execution_count": 4,
   "metadata": {},
   "outputs": [
    {
     "name": "stdout",
     "output_type": "stream",
     "text": [
      "Hello World\n"
     ]
    }
   ],
   "source": [
    "# Testing just to ensure this is working properly, as I've had issues with jupyter.\n",
    "print('Hello World')        # As per the norm"
   ]
  },
  {
   "cell_type": "code",
   "execution_count": 31,
   "metadata": {
    "collapsed": true
   },
   "outputs": [],
   "source": [
    "# Going to get around to make sure the standard things and the things Dr. X suggested are set up before we begin\n",
    "\n",
    "import pandas as pd\n",
    "import matplotlib.pyplot as plt\n",
    "import seaborn as sns\n",
    "import urllib\n",
    "from Bio import SeqIO\n",
    "from Bio.Data import CodonTable\n",
    "from Bio.Seq import Seq\n",
    "from Bio.Alphabet import IUPAC\n",
    "from Bio.SeqUtils.ProtParam import ProteinAnalysis"
   ]
  },
  {
   "cell_type": "code",
   "execution_count": 5,
   "metadata": {
    "collapsed": true
   },
   "outputs": [],
   "source": [
    "# Function 1\n",
    "\n",
    "# First step, declaring the function.  Only one variable, fasta_fn.\n",
    "def get_sequences_from_file(fasta_fn):\n",
    "    sequence_data_dict = {}          # Creation of empty dictionary for our sequence data\n",
    "    for record in SeqIO.parse(fasta_fn, \"fasta\"):          #designates fasta filetype, returns iterated sequences with identifying info as SeqRecord objects\n",
    "        description = record.description.split()           #splits the description string into a number of substrings, stored as list\n",
    "        species_name = description[1] + \" \" + description[2]              #Takes second and third substrings from list, separates by space, stores as species name\n",
    "        sequence_data_dict[species_name] = record.seq          #adds the species name from above to the dictionary as a key mapped to the relevant sequence as a value\n",
    "    return(sequence_data_dict)          #returns completed dictionary of species names:sequences"
   ]
  },
  {
   "cell_type": "code",
   "execution_count": 14,
   "metadata": {
    "collapsed": true
   },
   "outputs": [],
   "source": [
    "#Function 2\n",
    "\n",
    "# Declare function.  Only one variable, that being the string of nucleotides.  So.\n",
    "def translate_function(string_nucleotides):\n",
    "    mito_table = CodonTable.unambiguous_dna_by_name[\"Vertebrate Mitochondrial\"]           #returns table of mitochondrial codons to amino acids\n",
    "    stop_codons = mito_table.stop_codons           #returns list of stop codons\n",
    "    sep_codons = [string_nucleotides[i:i+3] for i in range(0, len(string_nucleotides), 3)]           #Separates the codons into a list of individual codons\n",
    "    amino_seq = \"\"          #Initializes a blank string to amino_seq\n",
    "    for i in range(len(sep_codons)):\n",
    "        if len(sep_codons[i]) < 3:            #In case the sequence isn't divisible by three.  Worried about an error if that occurs, so added this.\n",
    "            print(amino_seq)\n",
    "            print(\"Sequence ends in stray nucleotides.\")\n",
    "            return\n",
    "        elif any(sep_codons[i] in s for s in stop_codons):              #Prints sequence and returns immediately if catches a stop codon.  If you want it to keep going after that point, things get iffy.\n",
    "            print(amino_seq)\n",
    "            return\n",
    "        else:\n",
    "            amino_seq+=mito_table.forward_table[sep_codons[i]]\n",
    "    print(amino_seq)\n",
    "    print(\"Sequence does not end in stop codon.\")\n",
    "    return"
   ]
  },
  {
   "cell_type": "code",
   "execution_count": 18,
   "metadata": {},
   "outputs": [
    {
     "name": "stdout",
     "output_type": "stream",
     "text": [
      "IV\n"
     ]
    }
   ],
   "source": [
    "translate_function('ATTGTTAGA')           #Testing"
   ]
  },
  {
   "cell_type": "code",
   "execution_count": 26,
   "metadata": {
    "collapsed": true
   },
   "outputs": [],
   "source": [
    "#Function 3\n",
    "\n",
    "#Yes, there is a better way to do it.  And it's pretty simple and straightforward, since you can use the translate function in biopython.\n",
    "\n",
    "def better_translate(string_nucleotides):\n",
    "    coding_dna = Seq(string_nucleotides)\n",
    "    translated_dna = coding_dna.translate(table=\"Vertebrate Mitochondrial\")            #Forgetting to add the correct table will result in you using standard genetic code \n",
    "    print(translated_dna)"
   ]
  },
  {
   "cell_type": "code",
   "execution_count": 38,
   "metadata": {},
   "outputs": [
    {
     "name": "stdout",
     "output_type": "stream",
     "text": [
      "IV*\n"
     ]
    }
   ],
   "source": [
    "better_translate('ATTGTTAGA')                #For testing, again"
   ]
  },
  {
   "cell_type": "code",
   "execution_count": 37,
   "metadata": {
    "collapsed": true
   },
   "outputs": [],
   "source": [
    "#Function 4\n",
    "\n",
    "def compute_molecular_weight(aa_seq):              #Must be string, yes.  Dunno why you wanted explicitly 3 amino acid sequence in the top, but I'm guessing it's a typo, since it doesn't seem to be what's wanted in the assignment proper.\n",
    "    fixed_seq = aa_seq.replace(\"*\",\"\")             #Removes the stop codons from above\n",
    "    analysed_seq = ProteinAnalysis(fixed_seq)\n",
    "    return analysed_seq.molecular_weight()"
   ]
  },
  {
   "cell_type": "code",
   "execution_count": 40,
   "metadata": {},
   "outputs": [
    {
     "data": {
      "text/plain": [
       "230.3039"
      ]
     },
     "execution_count": 40,
     "metadata": {},
     "output_type": "execute_result"
    }
   ],
   "source": [
    "compute_molecular_weight('IV*')"
   ]
  },
  {
   "cell_type": "code",
   "execution_count": null,
   "metadata": {
    "collapsed": true
   },
   "outputs": [],
   "source": []
  }
 ],
 "metadata": {
  "kernelspec": {
   "display_name": "Python 3",
   "language": "python",
   "name": "python3"
  },
  "language_info": {
   "codemirror_mode": {
    "name": "ipython",
    "version": 3
   },
   "file_extension": ".py",
   "mimetype": "text/x-python",
   "name": "python",
   "nbconvert_exporter": "python",
   "pygments_lexer": "ipython3",
   "version": "3.6.2"
  }
 },
 "nbformat": 4,
 "nbformat_minor": 2
}
